{
 "cells": [
  {
   "cell_type": "markdown",
   "metadata": {},
   "source": [
    "# DistributedArrays.jl\n",
    "\n",
    "Tianjing Zhao"
   ]
  },
  {
   "cell_type": "markdown",
   "metadata": {},
   "source": [
    "## Overall\n",
    "\n",
    "* Distribute arrays among several processes. Each process can read and write to the part of the array it owns and has read-only access to the parts it doesn't own. \n",
    "\n",
    "* Implemented by the `DArray` type."
   ]
  },
  {
   "cell_type": "markdown",
   "metadata": {},
   "source": [
    "## 1. Common kinds of arrays"
   ]
  },
  {
   "cell_type": "code",
   "execution_count": 2,
   "metadata": {},
   "outputs": [],
   "source": [
    "using DistributedArrays"
   ]
  },
  {
   "cell_type": "code",
   "execution_count": 3,
   "metadata": {},
   "outputs": [
    {
     "data": {
      "text/plain": [
       "5×5×3 DArray{Float64,3,Array{Float64,3}}:\n",
       "[:, :, 1] =\n",
       " 0.0  0.0  0.0  0.0  0.0\n",
       " 0.0  0.0  0.0  0.0  0.0\n",
       " 0.0  0.0  0.0  0.0  0.0\n",
       " 0.0  0.0  0.0  0.0  0.0\n",
       " 0.0  0.0  0.0  0.0  0.0\n",
       "\n",
       "[:, :, 2] =\n",
       " 0.0  0.0  0.0  0.0  0.0\n",
       " 0.0  0.0  0.0  0.0  0.0\n",
       " 0.0  0.0  0.0  0.0  0.0\n",
       " 0.0  0.0  0.0  0.0  0.0\n",
       " 0.0  0.0  0.0  0.0  0.0\n",
       "\n",
       "[:, :, 3] =\n",
       " 0.0  0.0  0.0  0.0  0.0\n",
       " 0.0  0.0  0.0  0.0  0.0\n",
       " 0.0  0.0  0.0  0.0  0.0\n",
       " 0.0  0.0  0.0  0.0  0.0\n",
       " 0.0  0.0  0.0  0.0  0.0"
      ]
     },
     "execution_count": 3,
     "metadata": {},
     "output_type": "execute_result"
    }
   ],
   "source": [
    "dzeros(5,5,3)"
   ]
  },
  {
   "cell_type": "code",
   "execution_count": 4,
   "metadata": {},
   "outputs": [
    {
     "data": {
      "text/plain": [
       "5×5×3 DArray{Float64,3,Array{Float64,3}}:\n",
       "[:, :, 1] =\n",
       " 1.0  1.0  1.0  1.0  1.0\n",
       " 1.0  1.0  1.0  1.0  1.0\n",
       " 1.0  1.0  1.0  1.0  1.0\n",
       " 1.0  1.0  1.0  1.0  1.0\n",
       " 1.0  1.0  1.0  1.0  1.0\n",
       "\n",
       "[:, :, 2] =\n",
       " 1.0  1.0  1.0  1.0  1.0\n",
       " 1.0  1.0  1.0  1.0  1.0\n",
       " 1.0  1.0  1.0  1.0  1.0\n",
       " 1.0  1.0  1.0  1.0  1.0\n",
       " 1.0  1.0  1.0  1.0  1.0\n",
       "\n",
       "[:, :, 3] =\n",
       " 1.0  1.0  1.0  1.0  1.0\n",
       " 1.0  1.0  1.0  1.0  1.0\n",
       " 1.0  1.0  1.0  1.0  1.0\n",
       " 1.0  1.0  1.0  1.0  1.0\n",
       " 1.0  1.0  1.0  1.0  1.0"
      ]
     },
     "execution_count": 4,
     "metadata": {},
     "output_type": "execute_result"
    }
   ],
   "source": [
    "dones(5,5,3)"
   ]
  },
  {
   "cell_type": "code",
   "execution_count": 5,
   "metadata": {},
   "outputs": [
    {
     "data": {
      "text/plain": [
       "5×5×3 DArray{Float64,3,Array{Float64,3}}:\n",
       "[:, :, 1] =\n",
       " 0.89197   0.642454  0.781039  0.563814  0.779959\n",
       " 0.279548  0.901386  0.340228  0.151859  0.410123\n",
       " 0.139563  0.624872  0.402932  0.212727  0.201272\n",
       " 0.520121  0.715016  0.741969  0.269502  0.895311\n",
       " 0.482408  0.727263  0.669837  0.445332  0.517186\n",
       "\n",
       "[:, :, 2] =\n",
       " 0.959925  0.17542   0.49234   0.825684  0.604928\n",
       " 0.156448  0.607025  0.783906  0.297789  0.347764\n",
       " 0.34884   0.26429   0.176852  0.688177  0.659809\n",
       " 0.376616  0.153555  0.460386  0.402164  0.649105\n",
       " 0.859536  0.802908  0.44567   0.901494  0.113361\n",
       "\n",
       "[:, :, 3] =\n",
       " 0.714864  0.384019  0.892182  0.771109  0.343996\n",
       " 0.44206   0.677623  0.756629  0.116888  0.629704\n",
       " 0.449221  0.55814   0.510341  0.66491   0.862336\n",
       " 0.110102  0.870301  0.675259  0.877988  0.993199\n",
       " 0.433205  0.608899  0.563866  0.807631  0.512861"
      ]
     },
     "execution_count": 5,
     "metadata": {},
     "output_type": "execute_result"
    }
   ],
   "source": [
    "drand(5,5,3)"
   ]
  },
  {
   "cell_type": "code",
   "execution_count": 6,
   "metadata": {},
   "outputs": [
    {
     "data": {
      "text/plain": [
       "5×5×3 DArray{Float64,3,Array{Float64,3}}:\n",
       "[:, :, 1] =\n",
       " -0.392174  -0.0425261  -0.432044   0.354389   0.227615 \n",
       "  1.03927   -0.967472   -1.67827   -0.821172   0.0115231\n",
       " -0.161426   1.31575    -0.267954  -1.84377    0.929376 \n",
       "  2.27236   -1.55674     0.362888   0.609409  -0.0821226\n",
       "  1.02012   -1.28925     0.25434    0.905731   0.741749 \n",
       "\n",
       "[:, :, 2] =\n",
       " -0.383718  -1.82712   -0.16982     0.759123   0.116729 \n",
       " -0.81713    0.982965   0.114579   -0.592767   2.25993  \n",
       " -0.688654  -1.00023   -0.0262803  -1.04684   -0.348167 \n",
       "  0.637557   1.07245    0.415116    0.590431   0.32672  \n",
       "  0.942827   0.908988   0.598126    0.651604   0.0683422\n",
       "\n",
       "[:, :, 3] =\n",
       " -1.20179    -0.840622   0.211491  1.37978   -1.67601 \n",
       " -0.894205   -0.883141  -0.174609  0.480883   0.433956\n",
       " -0.643035   -1.10741   -0.525827  0.59959    1.88661 \n",
       " -1.11919     0.471544  -0.753743  0.212967  -0.402186\n",
       "  0.0326255  -1.31571   -1.2998    1.28958   -0.109641"
      ]
     },
     "execution_count": 6,
     "metadata": {},
     "output_type": "execute_result"
    }
   ],
   "source": [
    "drandn(5,5,3)"
   ]
  },
  {
   "cell_type": "code",
   "execution_count": 7,
   "metadata": {},
   "outputs": [
    {
     "data": {
      "text/plain": [
       "5×5×3 DArray{Int64,3,Array{Int64,3}}:\n",
       "[:, :, 1] =\n",
       " 99  99  99  99  99\n",
       " 99  99  99  99  99\n",
       " 99  99  99  99  99\n",
       " 99  99  99  99  99\n",
       " 99  99  99  99  99\n",
       "\n",
       "[:, :, 2] =\n",
       " 99  99  99  99  99\n",
       " 99  99  99  99  99\n",
       " 99  99  99  99  99\n",
       " 99  99  99  99  99\n",
       " 99  99  99  99  99\n",
       "\n",
       "[:, :, 3] =\n",
       " 99  99  99  99  99\n",
       " 99  99  99  99  99\n",
       " 99  99  99  99  99\n",
       " 99  99  99  99  99\n",
       " 99  99  99  99  99"
      ]
     },
     "execution_count": 7,
     "metadata": {},
     "output_type": "execute_result"
    }
   ],
   "source": [
    "dfill(99,5,5,3)"
   ]
  },
  {
   "cell_type": "code",
   "execution_count": 16,
   "metadata": {},
   "outputs": [
    {
     "data": {
      "text/plain": [
       "9"
      ]
     },
     "execution_count": 16,
     "metadata": {},
     "output_type": "execute_result"
    }
   ],
   "source": [
    "using Distributed\n",
    "nprocs()"
   ]
  },
  {
   "cell_type": "code",
   "execution_count": 10,
   "metadata": {},
   "outputs": [
    {
     "data": {
      "text/plain": [
       "4-element Array{Int64,1}:\n",
       " 2\n",
       " 3\n",
       " 4\n",
       " 5"
      ]
     },
     "execution_count": 10,
     "metadata": {},
     "output_type": "execute_result"
    }
   ],
   "source": [
    "addprocs(4)"
   ]
  },
  {
   "cell_type": "code",
   "execution_count": 11,
   "metadata": {},
   "outputs": [],
   "source": [
    "@everywhere using DistributedArrays"
   ]
  },
  {
   "cell_type": "code",
   "execution_count": 13,
   "metadata": {},
   "outputs": [
    {
     "data": {
      "text/plain": [
       "5×5 DArray{Float64,2,Array{Float64,2}}:\n",
       " 0.0  0.0  0.0  0.0  0.0\n",
       " 0.0  0.0  0.0  0.0  0.0\n",
       " 0.0  0.0  0.0  0.0  0.0\n",
       " 0.0  0.0  0.0  0.0  0.0\n",
       " 0.0  0.0  0.0  0.0  0.0"
      ]
     },
     "execution_count": 13,
     "metadata": {},
     "output_type": "execute_result"
    }
   ],
   "source": [
    "dzeros((5,5), workers()[1:4], [1,4])"
   ]
  },
  {
   "cell_type": "markdown",
   "metadata": {},
   "source": [
    "## 2. Constructing Distributed Arrays"
   ]
  },
  {
   "cell_type": "markdown",
   "metadata": {},
   "source": [
    "`DArray(init, dims[, procs, dist])`"
   ]
  },
  {
   "cell_type": "code",
   "execution_count": 14,
   "metadata": {},
   "outputs": [
    {
     "data": {
      "text/plain": [
       "5×5 Array{Int64,2}:\n",
       " 2  3  4  5   6\n",
       " 3  4  5  6   7\n",
       " 4  5  6  7   8\n",
       " 5  6  7  8   9\n",
       " 6  7  8  9  10"
      ]
     },
     "execution_count": 14,
     "metadata": {},
     "output_type": "execute_result"
    }
   ],
   "source": [
    " [i+j for i = 1:5, j = 1:5]"
   ]
  },
  {
   "cell_type": "code",
   "execution_count": 26,
   "metadata": {},
   "outputs": [
    {
     "data": {
      "text/plain": [
       "0.029357557"
      ]
     },
     "execution_count": 26,
     "metadata": {},
     "output_type": "execute_result"
    }
   ],
   "source": [
    "@elapsed [i+j for i = 1:5, j = 1:5]"
   ]
  },
  {
   "cell_type": "code",
   "execution_count": 15,
   "metadata": {},
   "outputs": [],
   "source": [
    "@everywhere using DistributedArrays"
   ]
  },
  {
   "cell_type": "code",
   "execution_count": 16,
   "metadata": {},
   "outputs": [
    {
     "data": {
      "text/plain": [
       "5×5 DArray{Int64,2,Array{Int64,2}}:\n",
       " 2  3  4  5   6\n",
       " 3  4  5  6   7\n",
       " 4  5  6  7   8\n",
       " 5  6  7  8   9\n",
       " 6  7  8  9  10"
      ]
     },
     "execution_count": 16,
     "metadata": {},
     "output_type": "execute_result"
    }
   ],
   "source": [
    "@DArray [i+j for i = 1:5, j = 1:5]"
   ]
  },
  {
   "cell_type": "code",
   "execution_count": 24,
   "metadata": {},
   "outputs": [
    {
     "data": {
      "text/plain": [
       "0.159854715"
      ]
     },
     "execution_count": 24,
     "metadata": {},
     "output_type": "execute_result"
    }
   ],
   "source": [
    "@elapsed @DArray [i+j for i = 1:5, j = 1:5]      # didn't faster"
   ]
  },
  {
   "cell_type": "markdown",
   "metadata": {},
   "source": [
    "### Construction from arrays generated on separate processes"
   ]
  },
  {
   "cell_type": "code",
   "execution_count": 20,
   "metadata": {},
   "outputs": [
    {
     "data": {
      "text/plain": [
       "4-element Array{Future,1}:\n",
       " Future(2, 1, 3696, nothing)\n",
       " Future(3, 1, 3697, nothing)\n",
       " Future(4, 1, 3698, nothing)\n",
       " Future(5, 1, 3699, nothing)"
      ]
     },
     "execution_count": 20,
     "metadata": {},
     "output_type": "execute_result"
    }
   ],
   "source": [
    "ras = [@spawnat p rand(5,5) for p in workers()[1:4]]"
   ]
  },
  {
   "cell_type": "code",
   "execution_count": 21,
   "metadata": {},
   "outputs": [
    {
     "data": {
      "text/plain": [
       "2×2 Array{Future,2}:\n",
       " Future(2, 1, 3696, nothing)  Future(4, 1, 3698, nothing)\n",
       " Future(3, 1, 3697, nothing)  Future(5, 1, 3699, nothing)"
      ]
     },
     "execution_count": 21,
     "metadata": {},
     "output_type": "execute_result"
    }
   ],
   "source": [
    "ras = reshape(ras,(2,2))"
   ]
  },
  {
   "cell_type": "code",
   "execution_count": 22,
   "metadata": {},
   "outputs": [
    {
     "data": {
      "text/plain": [
       "10×10 DArray{Float64,2,Array{Float64,2}}:\n",
       " 0.401937   0.668173  0.204523   0.572405   …  0.354094   0.688662   0.383736\n",
       " 0.0482807  0.085338  0.471426   0.0986697     0.81638    0.139023   0.702201\n",
       " 0.235395   0.68324   0.334637   0.488936      0.897876   0.933222   0.950391\n",
       " 0.576639   0.107435  0.832585   0.73998       0.0720145  0.430704   0.629955\n",
       " 0.6622     0.103189  0.324695   0.204536      0.0161773  0.350157   0.85988 \n",
       " 0.77248    0.251515  0.85576    0.0901673  …  0.117311   0.422978   0.327551\n",
       " 0.883324   0.830458  0.21691    0.563549      0.879337   0.580998   0.271731\n",
       " 0.31635    0.941245  0.0580016  0.281445      0.338923   0.153829   0.67596 \n",
       " 0.285533   0.157378  0.404488   0.998034      0.936643   0.0122729  0.654862\n",
       " 0.237354   0.805067  0.457882   0.686689      0.627509   0.35214    0.701677"
      ]
     },
     "execution_count": 22,
     "metadata": {},
     "output_type": "execute_result"
    }
   ],
   "source": [
    "D   = DArray(ras)"
   ]
  },
  {
   "cell_type": "markdown",
   "metadata": {},
   "source": [
    "Alternative:"
   ]
  },
  {
   "cell_type": "code",
   "execution_count": 28,
   "metadata": {},
   "outputs": [
    {
     "data": {
      "text/plain": [
       "Future(2, 1, 5080, nothing)"
      ]
     },
     "execution_count": 28,
     "metadata": {},
     "output_type": "execute_result"
    }
   ],
   "source": [
    "r1 = DistributedArrays.remotecall(() -> rand(5,5), workers()[1]) "
   ]
  },
  {
   "cell_type": "code",
   "execution_count": 29,
   "metadata": {},
   "outputs": [
    {
     "data": {
      "text/plain": [
       "Future(3, 1, 5081, nothing)"
      ]
     },
     "execution_count": 29,
     "metadata": {},
     "output_type": "execute_result"
    }
   ],
   "source": [
    "r2 = DistributedArrays.remotecall(() -> rand(5,5), workers()[2]) "
   ]
  },
  {
   "cell_type": "code",
   "execution_count": 30,
   "metadata": {},
   "outputs": [
    {
     "data": {
      "text/plain": [
       "Future(4, 1, 5082, nothing)"
      ]
     },
     "execution_count": 30,
     "metadata": {},
     "output_type": "execute_result"
    }
   ],
   "source": [
    "r3 = DistributedArrays.remotecall(() -> rand(5,5), workers()[3]) "
   ]
  },
  {
   "cell_type": "code",
   "execution_count": 31,
   "metadata": {},
   "outputs": [
    {
     "data": {
      "text/plain": [
       "Future(5, 1, 5083, nothing)"
      ]
     },
     "execution_count": 31,
     "metadata": {},
     "output_type": "execute_result"
    }
   ],
   "source": [
    "r4 = DistributedArrays.remotecall(() -> rand(5,5), workers()[4]) "
   ]
  },
  {
   "cell_type": "code",
   "execution_count": 32,
   "metadata": {},
   "outputs": [
    {
     "data": {
      "text/plain": [
       "10×10 DArray{Float64,2,Array{Float64,2}}:\n",
       " 0.984959    0.182307   0.850448  …  0.169243   0.78157   0.291638 \n",
       " 0.104677    0.49676    0.111804     0.0958134  0.843161  0.423677 \n",
       " 0.382569    0.0734869  0.702722     0.583093   0.732208  0.616874 \n",
       " 0.492611    0.12175    0.949549     0.121313   0.729082  0.590553 \n",
       " 0.151797    0.839126   0.344323     0.538344   0.597216  0.0135828\n",
       " 0.759575    0.496508   0.889152  …  0.912679   0.737816  0.0848842\n",
       " 0.1029      0.3157     0.482599     0.732886   0.239349  0.639298 \n",
       " 0.823698    0.176942   0.233137     0.801918   0.534946  0.673758 \n",
       " 0.00285872  0.109936   0.659186     0.250951   0.327143  0.0268003\n",
       " 0.361411    0.282187   0.855173     0.134402   0.152311  0.719339 "
      ]
     },
     "execution_count": 32,
     "metadata": {},
     "output_type": "execute_result"
    }
   ],
   "source": [
    "D  = DArray(reshape([r1 r2 r3 r4], (2,2))) "
   ]
  },
  {
   "cell_type": "markdown",
   "metadata": {},
   "source": [
    "Check the distribution of indices across workers"
   ]
  },
  {
   "cell_type": "code",
   "execution_count": 33,
   "metadata": {},
   "outputs": [
    {
     "data": {
      "text/plain": [
       "4-element Array{Tuple{UnitRange{Int64},UnitRange{Int64}},1}:\n",
       " (1:5, 1:5)  \n",
       " (6:10, 1:5) \n",
       " (1:5, 6:10) \n",
       " (6:10, 6:10)"
      ]
     },
     "execution_count": 33,
     "metadata": {},
     "output_type": "execute_result"
    }
   ],
   "source": [
    "[@fetchfrom p localindices(D) for p in workers()]"
   ]
  },
  {
   "cell_type": "markdown",
   "metadata": {},
   "source": [
    "## 3. Operations\n",
    "\n",
    "Allow communication to be done via array indexing."
   ]
  },
  {
   "cell_type": "markdown",
   "metadata": {},
   "source": [
    "### Example\n",
    "\"life\" cellular automaton, where each cell in a grid is updated according to its neighboring cells."
   ]
  },
  {
   "cell_type": "code",
   "execution_count": 34,
   "metadata": {},
   "outputs": [
    {
     "data": {
      "text/plain": [
       "life_step (generic function with 1 method)"
      ]
     },
     "execution_count": 34,
     "metadata": {},
     "output_type": "execute_result"
    }
   ],
   "source": [
    "function life_step(d::DArray)\n",
    "    DArray(size(d),procs(d)) do I\n",
    "        top   = mod(first(I[1])-2,size(d,1))+1\n",
    "        bot   = mod( last(I[1])  ,size(d,1))+1\n",
    "        left  = mod(first(I[2])-2,size(d,2))+1\n",
    "        right = mod( last(I[2])  ,size(d,2))+1\n",
    "\n",
    "        old = Array{Bool}(undef, length(I[1])+2, length(I[2])+2)\n",
    "        old[1      , 1      ] = d[top , left]   # left side\n",
    "        old[2:end-1, 1      ] = d[I[1], left]\n",
    "        old[end    , 1      ] = d[bot , left]\n",
    "        old[1      , 2:end-1] = d[top , I[2]]\n",
    "        old[2:end-1, 2:end-1] = d[I[1], I[2]]   # middle\n",
    "        old[end    , 2:end-1] = d[bot , I[2]]\n",
    "        old[1      , end    ] = d[top , right]  # right side\n",
    "        old[2:end-1, end    ] = d[I[1], right]\n",
    "        old[end    , end    ] = d[bot , right]\n",
    "\n",
    "        life_rule(old)\n",
    "    end\n",
    "end"
   ]
  },
  {
   "cell_type": "code",
   "execution_count": 35,
   "metadata": {},
   "outputs": [
    {
     "data": {
      "text/plain": [
       "life_rule (generic function with 1 method)"
      ]
     },
     "execution_count": 35,
     "metadata": {},
     "output_type": "execute_result"
    }
   ],
   "source": [
    "function life_rule(old)\n",
    "    m, n = size(old)\n",
    "    new = similar(old, m-2, n-2)\n",
    "    for j = 2:n-1\n",
    "        for i = 2:m-1\n",
    "            nc = +(old[i-1,j-1], old[i-1,j], old[i-1,j+1],\n",
    "                   old[i  ,j-1],             old[i  ,j+1],\n",
    "                   old[i+1,j-1], old[i+1,j], old[i+1,j+1])\n",
    "            new[i-1,j-1] = (nc == 3 || nc == 2 && old[i,j])\n",
    "        end\n",
    "    end\n",
    "    new\n",
    "end"
   ]
  },
  {
   "cell_type": "markdown",
   "metadata": {},
   "source": [
    "## Garbage Collection\n",
    "* `close(d::DArray)`\n",
    "* `d_closeall()`"
   ]
  },
  {
   "cell_type": "code",
   "execution_count": 44,
   "metadata": {},
   "outputs": [],
   "source": [
    "d_closeall()"
   ]
  },
  {
   "cell_type": "markdown",
   "metadata": {},
   "source": [
    "## SPMD Mode (MPI Style)\n",
    "\n",
    "The same function is executed in parallel on all participating nodes\n",
    "\n",
    "Example:\n",
    "\n",
    "#define foo() on all workers\n",
    "\n",
    "`@everywhere function foo(arg1, arg2)\n",
    "    ....\n",
    "end`\n",
    "\n",
    "#call foo() everywhere using the spmd function\n",
    "\n",
    "`d_in=DArray(.....)\n",
    "d_out=ddata()\n",
    "spmd(foo,d_in,d_out; pids=workers()) # executes on all workers`"
   ]
  },
  {
   "cell_type": "markdown",
   "metadata": {},
   "source": [
    "### Example\n",
    "\n",
    "exchanges data with each of its neighbors n times"
   ]
  },
  {
   "cell_type": "code",
   "execution_count": 1,
   "metadata": {},
   "outputs": [],
   "source": [
    "using Distributed\n",
    "using DistributedArrays"
   ]
  },
  {
   "cell_type": "code",
   "execution_count": 2,
   "metadata": {},
   "outputs": [
    {
     "data": {
      "text/plain": [
       "8-element Array{Int64,1}:\n",
       " 2\n",
       " 3\n",
       " 4\n",
       " 5\n",
       " 6\n",
       " 7\n",
       " 8\n",
       " 9"
      ]
     },
     "execution_count": 2,
     "metadata": {},
     "output_type": "execute_result"
    }
   ],
   "source": [
    "addprocs(8)"
   ]
  },
  {
   "cell_type": "code",
   "execution_count": 3,
   "metadata": {},
   "outputs": [],
   "source": [
    "@everywhere using DistributedArrays\n",
    "@everywhere using DistributedArrays.SPMD"
   ]
  },
  {
   "cell_type": "code",
   "execution_count": 36,
   "metadata": {},
   "outputs": [
    {
     "data": {
      "text/plain": [
       "8×2 DArray{Int64,2,Array{Int64,2}}:\n",
       " 2  2\n",
       " 3  3\n",
       " 4  4\n",
       " 5  5\n",
       " 6  6\n",
       " 7  7\n",
       " 8  8\n",
       " 9  9"
      ]
     },
     "execution_count": 36,
     "metadata": {},
     "output_type": "execute_result"
    }
   ],
   "source": [
    "d_in=d=DArray(I->fill(myid(), (map(length,I)...,)), (nworkers(), 2), workers(), [nworkers(),1])"
   ]
  },
  {
   "cell_type": "code",
   "execution_count": 37,
   "metadata": {},
   "outputs": [],
   "source": [
    "d_out=ddata();"
   ]
  },
  {
   "cell_type": "code",
   "execution_count": 38,
   "metadata": {},
   "outputs": [],
   "source": [
    "# define the function everywhere\n",
    "@everywhere function foo_spmd(d_in, d_out, n)\n",
    "    pids = sort(vec(procs(d_in)))  # 2,3......9\n",
    "    pididx = findfirst(isequal(myid()), pids)   #myid ==1 \n",
    "    println(pididx)\n",
    "    mylp = d_in[:L]\n",
    "    localsum = 0\n",
    "\n",
    "    # Have each worker exchange data with its neighbors\n",
    "    n_pididx = pididx+1 > length(pids) ? 1 : pididx+1\n",
    "    println(n_pididx)\n",
    "    p_pididx = pididx-1 < 1 ? length(pids) : pididx-1\n",
    "    println(p_pididx)\n",
    "\n",
    "    for i in 1:n\n",
    "        sendto(pids[n_pididx], mylp[2])\n",
    "        sendto(pids[p_pididx], mylp[1])\n",
    "\n",
    "        mylp[2] = recvfrom(pids[p_pididx])\n",
    "        mylp[1] = recvfrom(pids[n_pididx])\n",
    "\n",
    "        barrier(;pids=pids)\n",
    "        localsum = localsum + mylp[1] + mylp[2]\n",
    "    end\n",
    "\n",
    "    # finally store the sum in d_out\n",
    "    d_out[:L] = localsum\n",
    "end"
   ]
  },
  {
   "cell_type": "code",
   "execution_count": 39,
   "metadata": {},
   "outputs": [
    {
     "name": "stdout",
     "output_type": "stream",
     "text": [
      "      From worker 9:\t8\n",
      "      From worker 9:\t1\n",
      "      From worker 9:\t7\n",
      "      From worker 8:\t7\n",
      "      From worker 8:\t8\n",
      "      From worker 8:\t6\n",
      "      From worker 2:\t1\n",
      "      From worker 2:\t2\n",
      "      From worker 2:\t8\n",
      "      From worker 4:\t3\n",
      "      From worker 4:\t4\n",
      "      From worker 4:\t2\n",
      "      From worker 6:\t5\n",
      "      From worker 6:\t6\n",
      "      From worker 6:\t4\n",
      "      From worker 5:\t4\n",
      "      From worker 5:\t5\n",
      "      From worker 5:\t3\n",
      "      From worker 3:\t2\n",
      "      From worker 3:\t3\n",
      "      From worker 3:\t1\n",
      "      From worker 7:\t6\n",
      "      From worker 7:\t7\n",
      "      From worker 7:\t5\n"
     ]
    }
   ],
   "source": [
    "# run foo_spmd on all workers\n",
    "spmd(foo_spmd, d_in, d_out, 1, pids=workers())"
   ]
  },
  {
   "cell_type": "code",
   "execution_count": 26,
   "metadata": {},
   "outputs": [
    {
     "name": "stdout",
     "output_type": "stream",
     "text": [
      "[3 9; 4 2; 5 3; 6 4; 7 5; 8 6; 9 7; 2 8]\n"
     ]
    }
   ],
   "source": [
    "println(d_in)"
   ]
  },
  {
   "cell_type": "code",
   "execution_count": 27,
   "metadata": {},
   "outputs": [
    {
     "name": "stdout",
     "output_type": "stream",
     "text": [
      "Any[12, 6, 8, 10, 12, 14, 16, 10]\n"
     ]
    }
   ],
   "source": [
    "println(d_out)"
   ]
  }
 ],
 "metadata": {
  "kernelspec": {
   "display_name": "Julia 1.0.1",
   "language": "julia",
   "name": "julia-1.0"
  },
  "language_info": {
   "file_extension": ".jl",
   "mimetype": "application/julia",
   "name": "julia",
   "version": "1.0.1"
  }
 },
 "nbformat": 4,
 "nbformat_minor": 2
}
