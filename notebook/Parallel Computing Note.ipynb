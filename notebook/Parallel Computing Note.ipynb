{
 "cells": [
  {
   "cell_type": "markdown",
   "metadata": {},
   "source": [
    "# Parallel Computing in Julia\n",
    "[Official Document](https://docs.julialang.org/en/v1/manual/parallel-computing/)\n",
    "\n",
    "Tianjing Zhao"
   ]
  },
  {
   "cell_type": "markdown",
   "metadata": {},
   "source": [
    "## Overall"
   ]
  },
  {
   "cell_type": "markdown",
   "metadata": {},
   "source": [
    "There are three categories:\n",
    "1. Coroutines\n",
    "2. Multi-Threading\n",
    "3. Multi-Core or Distributed Processing"
   ]
  },
  {
   "cell_type": "markdown",
   "metadata": {},
   "source": [
    "## Other pkg\n",
    "\n",
    "`MPI.jl`, `DistributedArrays.jl`\n",
    "\n",
    "1. Low-level (C kernel) based operations `OpenCL.jl` and `CUDAdrv.jl` which are respectively an OpenCL interface and a CUDA wrapper.\n",
    "\n",
    "2. Low-level (Julia Kernel) interfaces like `CUDAnative.jl` which is a Julia native CUDA implementation.\n",
    "\n",
    "3. High-level vendor specific abstractions like `CuArrays.jl` and `CLArrays.jl`\n",
    "\n",
    "4. High-level libraries like `ArrayFire.jl` and `GPUArrays.jl`"
   ]
  },
  {
   "cell_type": "markdown",
   "metadata": {},
   "source": [
    "## Backgraound\n",
    "1. Program\n",
    "  * Application\n",
    "  * web browsing/email a message/...\n",
    "2. Process (program + resources) \n",
    "  * has separate memory;\n",
    "  * process runs **independently**. (one window crash not affect others)\n",
    "![image info](3.png)\n",
    "3. Thread\n",
    "  * **unit of execution** within process\n",
    "  * Each thread in the process shares memory and resources.\n",
    "  * Multiple core/processor: process at the same time.\n",
    "![image info](1.png)\n",
    "![image info](2.png)\n",
    "\n",
    "Same heap. (easy communicate)"
   ]
  },
  {
   "cell_type": "markdown",
   "metadata": {},
   "source": [
    "## Method 1: Coroutines\n",
    "\n",
    "•\tsequential tasks\n",
    "\n",
    "•\texecute only one task at a time\n",
    "\n",
    "•\tJulia: put all tasks onto a single thread.\n"
   ]
  },
  {
   "cell_type": "markdown",
   "metadata": {},
   "source": [
    "### Overall\n",
    "* Use **Tasks** (aka Coroutines) to switch among multiple computations.\n",
    "* Use **Channels** to pass data between running tasks."
   ]
  },
  {
   "cell_type": "markdown",
   "metadata": {},
   "source": [
    "### Example"
   ]
  },
  {
   "cell_type": "code",
   "execution_count": 64,
   "metadata": {},
   "outputs": [
    {
     "ename": "ErrorException",
     "evalue": "invalid redefinition of constant jobs",
     "output_type": "error",
     "traceback": [
      "invalid redefinition of constant jobs",
      "",
      "Stacktrace:",
      " [1] top-level scope at In[64]:1"
     ]
    }
   ],
   "source": [
    "# create channel to receive job data\n",
    "const jobs = Channel{Int}(32);"
   ]
  },
  {
   "cell_type": "code",
   "execution_count": 2,
   "metadata": {},
   "outputs": [],
   "source": [
    "# create channel to receive result data\n",
    "const results = Channel{Tuple}(32);"
   ]
  },
  {
   "cell_type": "code",
   "execution_count": 3,
   "metadata": {},
   "outputs": [],
   "source": [
    "# function: do jobs and put result into result channel\n",
    "function do_work()\n",
    "           for job_id in jobs\n",
    "               exec_time = rand()\n",
    "               sleep(exec_time)    # simulates elapsed time doing actual work\n",
    "                                   # typically performed externally.\n",
    "               put!(results, (job_id, exec_time))\n",
    "           end\n",
    "       end;"
   ]
  },
  {
   "cell_type": "code",
   "execution_count": 4,
   "metadata": {},
   "outputs": [],
   "source": [
    "# function: create job data and put into job channel\n",
    "function make_jobs(n)\n",
    "           for i in 1:n\n",
    "               put!(jobs, i)\n",
    "           end\n",
    "       end;"
   ]
  },
  {
   "cell_type": "code",
   "execution_count": 5,
   "metadata": {},
   "outputs": [],
   "source": [
    "# in total 12 jobs\n",
    "n = 12;"
   ]
  },
  {
   "cell_type": "code",
   "execution_count": 6,
   "metadata": {},
   "outputs": [],
   "source": [
    "@async make_jobs(n); # feed the jobs channel with \"n\" jobs"
   ]
  },
  {
   "cell_type": "code",
   "execution_count": 7,
   "metadata": {},
   "outputs": [],
   "source": [
    "# start 4 tasks to process requests in parallel\n",
    "for i in 1:4 \n",
    "    @async do_work()\n",
    "end"
   ]
  },
  {
   "cell_type": "code",
   "execution_count": 8,
   "metadata": {},
   "outputs": [
    {
     "name": "stdout",
     "output_type": "stream",
     "text": [
      "4 finished in 0.09 seconds\n",
      "2 finished in 0.12 seconds\n",
      "1 finished in 0.34 seconds\n",
      "7 finished in 0.02 seconds\n",
      "3 finished in 0.43 seconds\n",
      "5 finished in 0.33 seconds\n",
      "8 finished in 0.08 seconds\n",
      "10 finished in 0.56 seconds\n",
      "6 finished in 0.96 seconds\n",
      "11 finished in 0.83 seconds\n",
      "9 finished in 0.87 seconds\n",
      "12 finished in 0.38 seconds\n"
     ]
    },
    {
     "data": {
      "text/plain": [
       "1.090924772"
      ]
     },
     "execution_count": 8,
     "metadata": {},
     "output_type": "execute_result"
    }
   ],
   "source": [
    "#print result channel\n",
    "@elapsed while n > 0 # print out results\n",
    "           job_id, exec_time = take!(results)\n",
    "           println(\"$job_id finished in $(round(exec_time; digits=2)) seconds\")\n",
    "           global n = n - 1\n",
    "       end"
   ]
  },
  {
   "cell_type": "markdown",
   "metadata": {},
   "source": [
    "## Method 2: Multi-Threading\n",
    "![image info](4.png)"
   ]
  },
  {
   "cell_type": "markdown",
   "metadata": {},
   "source": [
    "### Overall\n",
    "* use the \"**Threads.@threads**\" macro to support parallel loops.\n",
    "* use Atomic Operations to avoid race conditions.\n",
    "\n",
    "race condition: output is dependent on the sequence, events do not happen in the order the programmer intended."
   ]
  },
  {
   "cell_type": "markdown",
   "metadata": {},
   "source": [
    "### Example (parallel loops)"
   ]
  },
  {
   "cell_type": "code",
   "execution_count": 19,
   "metadata": {},
   "outputs": [
    {
     "data": {
      "text/plain": [
       "1"
      ]
     },
     "execution_count": 19,
     "metadata": {},
     "output_type": "execute_result"
    }
   ],
   "source": [
    "# check numebr of threads\n",
    "Threads.nthreads()"
   ]
  },
  {
   "cell_type": "code",
   "execution_count": 20,
   "metadata": {},
   "outputs": [
    {
     "ename": "ErrorException",
     "evalue": "syntax: invalid assignment location \"export JULIA_NUM_THREADS\"",
     "output_type": "error",
     "traceback": [
      "syntax: invalid assignment location \"export JULIA_NUM_THREADS\"",
      ""
     ]
    }
   ],
   "source": [
    "export JULIA_NUM_THREADS=4"
   ]
  },
  {
   "cell_type": "code",
   "execution_count": 65,
   "metadata": {},
   "outputs": [
    {
     "data": {
      "text/plain": [
       "1"
      ]
     },
     "execution_count": 65,
     "metadata": {},
     "output_type": "execute_result"
    }
   ],
   "source": [
    "# check thread id\n",
    "Threads.threadid()"
   ]
  },
  {
   "cell_type": "code",
   "execution_count": 12,
   "metadata": {},
   "outputs": [],
   "source": [
    "a = zeros(10)\n",
    "Threads.@threads for i = 1:10\n",
    "           a[i] = Threads.threadid()\n",
    "       end"
   ]
  },
  {
   "cell_type": "markdown",
   "metadata": {},
   "source": [
    "The iteration space is **split** amongst the threads, write thread ID into `a`."
   ]
  },
  {
   "cell_type": "markdown",
   "metadata": {},
   "source": [
    "a\n",
    "10-element Array{Float64,1}:\n",
    " 1.0\n",
    " 1.0\n",
    " 1.0\n",
    " 2.0\n",
    " 2.0\n",
    " 2.0\n",
    " 3.0\n",
    " 3.0\n",
    " 4.0\n",
    " 4.0"
   ]
  },
  {
   "cell_type": "markdown",
   "metadata": {},
   "source": [
    "### Example 1 (Atomic Operations)\n",
    "race condition: output is dependent on the sequence, events do not happen in the order the programmer intended."
   ]
  },
  {
   "cell_type": "markdown",
   "metadata": {},
   "source": [
    "#### with Atomic Operations"
   ]
  },
  {
   "cell_type": "code",
   "execution_count": 23,
   "metadata": {},
   "outputs": [],
   "source": [
    "using Base.Threads"
   ]
  },
  {
   "cell_type": "code",
   "execution_count": 24,
   "metadata": {},
   "outputs": [
    {
     "data": {
      "text/plain": [
       "Atomic{Int64}(0)"
      ]
     },
     "execution_count": 24,
     "metadata": {},
     "output_type": "execute_result"
    }
   ],
   "source": [
    "acc = Atomic{Int64}(0)"
   ]
  },
  {
   "cell_type": "code",
   "execution_count": 25,
   "metadata": {},
   "outputs": [],
   "source": [
    "@threads for i in 1:1000\n",
    "          atomic_add!(acc, 1)\n",
    "       end"
   ]
  },
  {
   "cell_type": "code",
   "execution_count": 26,
   "metadata": {},
   "outputs": [
    {
     "data": {
      "text/plain": [
       "1000"
      ]
     },
     "execution_count": 26,
     "metadata": {},
     "output_type": "execute_result"
    }
   ],
   "source": [
    "acc[]"
   ]
  },
  {
   "cell_type": "markdown",
   "metadata": {},
   "source": [
    "#### without Atomic Operations"
   ]
  },
  {
   "cell_type": "code",
   "execution_count": 35,
   "metadata": {},
   "outputs": [
    {
     "data": {
      "text/plain": [
       "Base.RefValue{Int64}(0)"
      ]
     },
     "execution_count": 35,
     "metadata": {},
     "output_type": "execute_result"
    }
   ],
   "source": [
    "acc = Ref(0)"
   ]
  },
  {
   "cell_type": "code",
   "execution_count": 36,
   "metadata": {},
   "outputs": [],
   "source": [
    "@threads for i in 1:1000\n",
    "          acc[] += 1\n",
    "       end"
   ]
  },
  {
   "cell_type": "code",
   "execution_count": 37,
   "metadata": {},
   "outputs": [
    {
     "data": {
      "text/plain": [
       "1000"
      ]
     },
     "execution_count": 37,
     "metadata": {},
     "output_type": "execute_result"
    }
   ],
   "source": [
    "acc[]"
   ]
  },
  {
   "cell_type": "markdown",
   "metadata": {},
   "source": [
    "## Method 3: Multi-Core or Distributed Processing\n",
    "\n",
    "Multiple “cores” on a CPU,  like having multiple CPUs. \n",
    "\n",
    "Two cores: two single core processors in one CPU.\n",
    "\n",
    "Independently"
   ]
  },
  {
   "cell_type": "markdown",
   "metadata": {},
   "source": [
    "### Overall\n",
    "#### 1. remote references\n",
    "\n",
    "  an object that can be used from any process to refer to an **object** stored on a particular process.\n",
    "  \n",
    "\n",
    "  \n",
    "   * ##### RemoteChannel\n",
    "  RemoteChannel s are rewritable. For example, multiple processes can co-ordinate their processing by referencing the same remote Channel.\n",
    "\n",
    "\n",
    "#### 2. remote calls\n",
    "\n",
    " a request by one process to call a certain **function** on certain arguments on another (possibly the same) process  \n",
    " \n",
    "   * #####  Future \n",
    "  \n",
    "  A remote call returns a Future to its result. Remote calls return immediately; the process that made the call proceeds to its next operation while the remote call happens somewhere else. \n",
    "  \n",
    "  You can wait for a remote call to finish by calling wait on the returned Future, and you can obtain the full value of the result using fetch."
   ]
  },
  {
   "cell_type": "markdown",
   "metadata": {},
   "source": [
    "### Clusters\n",
    "\n",
    "* A local cluster specified with the -p option\n",
    "\n",
    "Starting with `julia -p n` provides `n` worker processes.\n",
    "\n"
   ]
  },
  {
   "cell_type": "code",
   "execution_count": 1,
   "metadata": {},
   "outputs": [
    {
     "data": {
      "text/plain": [
       "2-element Array{Int64,1}:\n",
       " 2\n",
       " 3"
      ]
     },
     "execution_count": 1,
     "metadata": {},
     "output_type": "execute_result"
    }
   ],
   "source": [
    "using Distributed\n",
    "addprocs(2) "
   ]
  },
  {
   "cell_type": "markdown",
   "metadata": {},
   "source": [
    "Master:1\n",
    "\n",
    "Worker: 2, 3"
   ]
  },
  {
   "cell_type": "markdown",
   "metadata": {},
   "source": [
    "### Example 1. remotecall()"
   ]
  },
  {
   "cell_type": "code",
   "execution_count": 2,
   "metadata": {},
   "outputs": [
    {
     "data": {
      "text/plain": [
       "Future(2, 1, 4, nothing)"
      ]
     },
     "execution_count": 2,
     "metadata": {},
     "output_type": "execute_result"
    }
   ],
   "source": [
    "# ask process 2 to construct a 2000-by-2000 random matrix\n",
    "r = remotecall(rand, 2, 5, 5)  # remotecall(func, process#2, para for func)"
   ]
  },
  {
   "cell_type": "markdown",
   "metadata": {},
   "source": [
    "Future(which process run?, current process, furture id)"
   ]
  },
  {
   "cell_type": "code",
   "execution_count": 3,
   "metadata": {},
   "outputs": [
    {
     "data": {
      "text/plain": [
       "5×5 Array{Float64,2}:\n",
       " 0.430077   0.9979    0.0233998  0.637561  0.261268\n",
       " 0.0936379  0.361854  0.952373   0.111028  0.7041  \n",
       " 0.30238    0.199314  0.652515   0.794073  0.785154\n",
       " 0.826905   0.720616  0.513937   0.442484  0.195432\n",
       " 0.58626    0.415829  0.222701   0.972524  0.921059"
      ]
     },
     "execution_count": 3,
     "metadata": {},
     "output_type": "execute_result"
    }
   ],
   "source": [
    "fetch(r)   "
   ]
  },
  {
   "cell_type": "code",
   "execution_count": null,
   "metadata": {},
   "outputs": [],
   "source": [
    "# getindex(r,1,1) in process#2\n",
    "remotecall_fetch(getindex, 2, r, 1, 1)"
   ]
  },
  {
   "cell_type": "markdown",
   "metadata": {},
   "source": [
    "### Example 2.  @spawn\n",
    "\n",
    "Create a closure around an expression and run it on an automatically-chosen process, returning a Future to the result."
   ]
  },
  {
   "cell_type": "code",
   "execution_count": 4,
   "metadata": {},
   "outputs": [
    {
     "data": {
      "text/plain": [
       "Future(2, 1, 6, nothing)"
      ]
     },
     "execution_count": 4,
     "metadata": {},
     "output_type": "execute_result"
    }
   ],
   "source": [
    "r = @spawn rand(2000,2000)"
   ]
  },
  {
   "cell_type": "code",
   "execution_count": 58,
   "metadata": {},
   "outputs": [
    {
     "data": {
      "text/plain": [
       "2000×2000 Array{Float64,2}:\n",
       " 0.782044   0.728519   0.521057   …  0.574093   0.619523   0.702463  \n",
       " 0.685303   0.106052   0.674226      0.168966   0.909303   0.219053  \n",
       " 0.880893   0.457408   0.0667173     0.657994   0.260433   0.0743496 \n",
       " 0.995482   0.305453   0.99011       0.375518   0.712771   0.899068  \n",
       " 0.695709   0.374857   0.434968      0.67448    0.224529   0.454395  \n",
       " 0.705327   0.670299   0.910327   …  0.114623   0.22566    0.678743  \n",
       " 0.610953   0.624547   0.653904      0.243574   0.390657   0.30878   \n",
       " 0.619398   0.207289   0.0866107     0.774062   0.169693   0.669659  \n",
       " 0.926544   0.520002   0.726469      0.213022   0.3713     0.769833  \n",
       " 0.531774   0.0886039  0.0450317     0.203762   0.416715   0.9958    \n",
       " 0.0830001  0.614697   0.12427    …  0.865373   0.480189   0.588488  \n",
       " 0.354107   0.416322   0.264461      0.410401   0.637225   0.682085  \n",
       " 0.908731   0.945972   0.971682      0.193317   0.448617   0.00207508\n",
       " ⋮                                ⋱                                  \n",
       " 0.179006   0.791535   0.11868       0.989409   0.553888   0.111828  \n",
       " 0.926275   0.525005   0.764382      0.592629   0.847244   0.870784  \n",
       " 0.877758   0.681805   0.82974    …  0.549239   0.732222   0.578081  \n",
       " 0.971149   0.744204   0.771415      0.447758   0.932951   0.824972  \n",
       " 0.845211   0.539072   0.083953      0.630474   0.0529646  0.139833  \n",
       " 0.112815   0.543676   0.320201      0.50313    0.257908   0.692631  \n",
       " 0.821215   0.157181   0.453419      0.875057   0.61936    0.340048  \n",
       " 0.131847   0.810197   0.911582   …  0.0805375  0.163163   0.200245  \n",
       " 0.150729   0.501417   0.489416      0.305149   0.25134    0.0470697 \n",
       " 0.784253   0.806548   0.942441      0.77468    0.0049854  0.913518  \n",
       " 0.852011   0.962928   0.929039      0.680673   0.69457    0.322319  \n",
       " 0.629435   0.83955    0.316578      0.334121   0.0750867  0.55017   "
      ]
     },
     "execution_count": 58,
     "metadata": {},
     "output_type": "execute_result"
    }
   ],
   "source": [
    "fetch(r)"
   ]
  },
  {
   "cell_type": "markdown",
   "metadata": {},
   "source": [
    "### No data movement (\"Monte Carlo\" simulation)\n",
    "\n",
    "adds one 300 times."
   ]
  },
  {
   "cell_type": "code",
   "execution_count": null,
   "metadata": {},
   "outputs": [],
   "source": [
    "count_head2.jl\n",
    "\n",
    "function count_heads(n)\n",
    "    c::Int = 0\n",
    "    for i = 1:n\n",
    "        c += i\n",
    "    end\n",
    "    c\n",
    "end"
   ]
  },
  {
   "cell_type": "code",
   "execution_count": 1,
   "metadata": {},
   "outputs": [
    {
     "data": {
      "text/plain": [
       "2-element Array{Int64,1}:\n",
       " 2\n",
       " 3"
      ]
     },
     "execution_count": 1,
     "metadata": {},
     "output_type": "execute_result"
    }
   ],
   "source": [
    "using Distributed\n",
    "addprocs(2) "
   ]
  },
  {
   "cell_type": "code",
   "execution_count": 2,
   "metadata": {},
   "outputs": [],
   "source": [
    "@everywhere include_string(Main, $(read(\"count_head2.jl\", String)), \"count_head2.jl\")"
   ]
  },
  {
   "cell_type": "code",
   "execution_count": 3,
   "metadata": {},
   "outputs": [
    {
     "data": {
      "text/plain": [
       "1000000000"
      ]
     },
     "execution_count": 3,
     "metadata": {},
     "output_type": "execute_result"
    }
   ],
   "source": [
    "ncounts= 1_000_000_000"
   ]
  },
  {
   "cell_type": "code",
   "execution_count": 21,
   "metadata": {},
   "outputs": [
    {
     "data": {
      "text/plain": [
       "Future(2, 1, 24, nothing)"
      ]
     },
     "execution_count": 21,
     "metadata": {},
     "output_type": "execute_result"
    }
   ],
   "source": [
    "a4 = @spawn count_heads(ncounts)"
   ]
  },
  {
   "cell_type": "code",
   "execution_count": 22,
   "metadata": {},
   "outputs": [
    {
     "data": {
      "text/plain": [
       "Future(3, 1, 25, nothing)"
      ]
     },
     "execution_count": 22,
     "metadata": {},
     "output_type": "execute_result"
    }
   ],
   "source": [
    "b4 = @spawn count_heads(ncounts)"
   ]
  },
  {
   "cell_type": "code",
   "execution_count": 23,
   "metadata": {},
   "outputs": [
    {
     "data": {
      "text/plain": [
       "0.006797852"
      ]
     },
     "execution_count": 23,
     "metadata": {},
     "output_type": "execute_result"
    }
   ],
   "source": [
    "@elapsed fetch(a4)+fetch(b4)  # 0.00064,0.00059, 0.0068"
   ]
  },
  {
   "cell_type": "code",
   "execution_count": 24,
   "metadata": {},
   "outputs": [
    {
     "data": {
      "text/plain": [
       "1000000001000000000"
      ]
     },
     "execution_count": 24,
     "metadata": {},
     "output_type": "execute_result"
    }
   ],
   "source": [
    "fetch(a4)+fetch(b4)"
   ]
  },
  {
   "cell_type": "code",
   "execution_count": null,
   "metadata": {},
   "outputs": [],
   "source": [
    "# test"
   ]
  },
  {
   "cell_type": "code",
   "execution_count": 30,
   "metadata": {},
   "outputs": [
    {
     "data": {
      "text/plain": [
       "Future(2, 1, 32, nothing)"
      ]
     },
     "execution_count": 30,
     "metadata": {},
     "output_type": "execute_result"
    }
   ],
   "source": [
    "aa = @spawn count_heads(ncounts)"
   ]
  },
  {
   "cell_type": "code",
   "execution_count": 26,
   "metadata": {},
   "outputs": [
    {
     "data": {
      "text/plain": [
       "Future(3, 1, 29, nothing)"
      ]
     },
     "execution_count": 26,
     "metadata": {},
     "output_type": "execute_result"
    }
   ],
   "source": [
    "bb = @spawn count_heads(ncounts)"
   ]
  },
  {
   "cell_type": "code",
   "execution_count": 31,
   "metadata": {},
   "outputs": [
    {
     "data": {
      "text/plain": [
       "0.000402233"
      ]
     },
     "execution_count": 31,
     "metadata": {},
     "output_type": "execute_result"
    }
   ],
   "source": [
    "@elapsed aa_v =  fetch(aa)  #0.00036,0.0004"
   ]
  },
  {
   "cell_type": "code",
   "execution_count": 28,
   "metadata": {},
   "outputs": [
    {
     "data": {
      "text/plain": [
       "0.000346074"
      ]
     },
     "execution_count": 28,
     "metadata": {},
     "output_type": "execute_result"
    }
   ],
   "source": [
    "@elapsed bb_v =  fetch(bb) #0.00034, 0.00034"
   ]
  },
  {
   "cell_type": "code",
   "execution_count": 20,
   "metadata": {},
   "outputs": [
    {
     "data": {
      "text/plain": [
       "1000000001000000000"
      ]
     },
     "execution_count": 20,
     "metadata": {},
     "output_type": "execute_result"
    }
   ],
   "source": [
    "aa_v+bb_v"
   ]
  },
  {
   "cell_type": "markdown",
   "metadata": {},
   "source": [
    "### Example 3. \n",
    "\n",
    "`@everywhere`:load on every process\n",
    "\n",
    "When `DummyModule.jl` needs to be loaded on every process"
   ]
  },
  {
   "cell_type": "code",
   "execution_count": 2,
   "metadata": {},
   "outputs": [
    {
     "name": "stdout",
     "output_type": "stream",
     "text": [
      "loaded\n",
      "      From worker 2:\tloaded\n",
      "      From worker 3:\tloaded\n"
     ]
    }
   ],
   "source": [
    "@everywhere include(\"DummyModule.jl\")"
   ]
  },
  {
   "cell_type": "code",
   "execution_count": 3,
   "metadata": {},
   "outputs": [],
   "source": [
    "using .DummyModule"
   ]
  },
  {
   "cell_type": "code",
   "execution_count": 4,
   "metadata": {},
   "outputs": [
    {
     "data": {
      "text/plain": [
       "MyType(7)"
      ]
     },
     "execution_count": 4,
     "metadata": {},
     "output_type": "execute_result"
    }
   ],
   "source": [
    "MyType(7)"
   ]
  },
  {
   "cell_type": "code",
   "execution_count": 5,
   "metadata": {},
   "outputs": [
    {
     "data": {
      "text/plain": [
       "MyType(7)"
      ]
     },
     "execution_count": 5,
     "metadata": {},
     "output_type": "execute_result"
    }
   ],
   "source": [
    "fetch(@spawnat 2 DummyModule.MyType(7))"
   ]
  },
  {
   "cell_type": "markdown",
   "metadata": {},
   "source": [
    "### Data Movement\n",
    "![image info](6.png)"
   ]
  },
  {
   "cell_type": "markdown",
   "metadata": {},
   "source": [
    "**Case 1**. A random matrix is constructed locally, then sent to another process where it is squared:\n",
    "\n",
    "`A = rand(1000,1000);\n",
    "Bref = @spawn A^2;\n",
    "fetch(Bref);`\n"
   ]
  },
  {
   "cell_type": "code",
   "execution_count": 6,
   "metadata": {},
   "outputs": [],
   "source": [
    "A = rand(10000,10000);"
   ]
  },
  {
   "cell_type": "code",
   "execution_count": 29,
   "metadata": {},
   "outputs": [
    {
     "data": {
      "text/plain": [
       "Future(3, 1, 14, nothing)"
      ]
     },
     "execution_count": 29,
     "metadata": {},
     "output_type": "execute_result"
    }
   ],
   "source": [
    "Bref = @spawn A^2"
   ]
  },
  {
   "cell_type": "code",
   "execution_count": 30,
   "metadata": {},
   "outputs": [
    {
     "data": {
      "text/plain": [
       "55.199853766"
      ]
     },
     "execution_count": 30,
     "metadata": {},
     "output_type": "execute_result"
    }
   ],
   "source": [
    "fetch(Bref)   "
   ]
  },
  {
   "cell_type": "markdown",
   "metadata": {},
   "source": [
    "**Case 2.** a random matrix is both constructed and squared on another process:\n",
    "\n",
    "`Bref = @spawn rand(1000,1000)^2;\n",
    "fetch(Bref);`\n",
    "\n",
    "\n",
    "**sends much less data than the first**"
   ]
  },
  {
   "cell_type": "code",
   "execution_count": 31,
   "metadata": {},
   "outputs": [
    {
     "data": {
      "text/plain": [
       "Future(2, 1, 16, nothing)"
      ]
     },
     "execution_count": 31,
     "metadata": {},
     "output_type": "execute_result"
    }
   ],
   "source": [
    "Bref = @spawn rand(10000,10000)^2"
   ]
  },
  {
   "cell_type": "code",
   "execution_count": 32,
   "metadata": {},
   "outputs": [
    {
     "data": {
      "text/plain": [
       "57.092824349"
      ]
     },
     "execution_count": 32,
     "metadata": {},
     "output_type": "execute_result"
    }
   ],
   "source": [
    "fetch(Bref)  "
   ]
  },
  {
   "cell_type": "markdown",
   "metadata": {},
   "source": [
    "### Parallel for loop\n",
    "\n",
    "\n",
    "**Reduction**: Many iterations run independently over several processes, and then their results are combined using some function.\n"
   ]
  },
  {
   "cell_type": "code",
   "execution_count": 1,
   "metadata": {},
   "outputs": [
    {
     "data": {
      "text/plain": [
       "10-element Array{Int64,1}:\n",
       "  2\n",
       "  3\n",
       "  4\n",
       "  5\n",
       "  6\n",
       "  7\n",
       "  8\n",
       "  9\n",
       " 10\n",
       " 11"
      ]
     },
     "execution_count": 1,
     "metadata": {},
     "output_type": "execute_result"
    }
   ],
   "source": [
    "using Distributed\n",
    "addprocs(10) "
   ]
  },
  {
   "cell_type": "code",
   "execution_count": 2,
   "metadata": {},
   "outputs": [
    {
     "data": {
      "text/plain": [
       "11"
      ]
     },
     "execution_count": 2,
     "metadata": {},
     "output_type": "execute_result"
    }
   ],
   "source": [
    "nprocs()"
   ]
  },
  {
   "cell_type": "code",
   "execution_count": 50,
   "metadata": {},
   "outputs": [
    {
     "data": {
      "text/plain": [
       "20"
      ]
     },
     "execution_count": 50,
     "metadata": {},
     "output_type": "execute_result"
    }
   ],
   "source": [
    "nheads = @distributed (+) for i = 1:10\n",
    "    2\n",
    "end"
   ]
  },
  {
   "cell_type": "code",
   "execution_count": 60,
   "metadata": {},
   "outputs": [
    {
     "data": {
      "text/plain": [
       "6"
      ]
     },
     "execution_count": 60,
     "metadata": {},
     "output_type": "execute_result"
    }
   ],
   "source": [
    "## add 0/1\n",
    "nheads = @distributed (+) for i = 1:10\n",
    "    Int(rand(Bool))\n",
    "end"
   ]
  },
  {
   "cell_type": "code",
   "execution_count": 10,
   "metadata": {},
   "outputs": [
    {
     "data": {
      "text/plain": [
       "-4"
      ]
     },
     "execution_count": 10,
     "metadata": {},
     "output_type": "execute_result"
    }
   ],
   "source": [
    "nheads = @distributed (-) for i = 1:10\n",
    "    Int(rand(Bool))\n",
    "end"
   ]
  },
  {
   "cell_type": "code",
   "execution_count": 43,
   "metadata": {},
   "outputs": [
    {
     "data": {
      "text/plain": [
       "0"
      ]
     },
     "execution_count": 43,
     "metadata": {},
     "output_type": "execute_result"
    }
   ],
   "source": [
    "nheads = @distributed (*) for i = 1:10\n",
    "    Int(rand(Bool))\n",
    "end"
   ]
  },
  {
   "cell_type": "markdown",
   "metadata": {},
   "source": [
    "#### Wrong example\n",
    "\n",
    "This code will not initialize all of `a`, since each process will have a **separate copy** of it. Parallel for loops like these must be avoided"
   ]
  },
  {
   "cell_type": "code",
   "execution_count": 51,
   "metadata": {},
   "outputs": [
    {
     "data": {
      "text/plain": [
       "Task (queued) @0x000000000677f3d0"
      ]
     },
     "execution_count": 51,
     "metadata": {},
     "output_type": "execute_result"
    }
   ],
   "source": [
    "a = zeros(10);\n",
    "@distributed for i = 1:10\n",
    "    a[i] = i\n",
    "end"
   ]
  },
  {
   "cell_type": "code",
   "execution_count": 52,
   "metadata": {},
   "outputs": [
    {
     "data": {
      "text/plain": [
       "10-element Array{Float64,1}:\n",
       " 0.0\n",
       " 0.0\n",
       " 0.0\n",
       " 0.0\n",
       " 0.0\n",
       " 0.0\n",
       " 0.0\n",
       " 0.0\n",
       " 0.0\n",
       " 0.0"
      ]
     },
     "execution_count": 52,
     "metadata": {},
     "output_type": "execute_result"
    }
   ],
   "source": [
    "a"
   ]
  },
  {
   "cell_type": "markdown",
   "metadata": {},
   "source": [
    "Fortunately, Shared Arrays can be used to get around this limitation"
   ]
  },
  {
   "cell_type": "code",
   "execution_count": 53,
   "metadata": {},
   "outputs": [
    {
     "data": {
      "text/plain": [
       "Task (queued) @0x00000000077cdcd0"
      ]
     },
     "execution_count": 53,
     "metadata": {},
     "output_type": "execute_result"
    }
   ],
   "source": [
    "using SharedArrays\n",
    "\n",
    "a = SharedArray{Float64}(10)\n",
    "@distributed for i = 1:10\n",
    "    a[i] = i\n",
    "end"
   ]
  },
  {
   "cell_type": "code",
   "execution_count": 54,
   "metadata": {},
   "outputs": [
    {
     "data": {
      "text/plain": [
       "10-element SharedArray{Float64,1}:\n",
       "  1.0\n",
       "  2.0\n",
       "  3.0\n",
       "  4.0\n",
       "  5.0\n",
       "  6.0\n",
       "  7.0\n",
       "  8.0\n",
       "  9.0\n",
       " 10.0"
      ]
     },
     "execution_count": 54,
     "metadata": {},
     "output_type": "execute_result"
    }
   ],
   "source": [
    "a"
   ]
  },
  {
   "cell_type": "markdown",
   "metadata": {},
   "source": [
    "### Parallel for map\n",
    "\n",
    "**no reduction** is needed"
   ]
  },
  {
   "cell_type": "code",
   "execution_count": 16,
   "metadata": {},
   "outputs": [],
   "source": [
    "@everywhere using LinearAlgebra"
   ]
  },
  {
   "cell_type": "code",
   "execution_count": 17,
   "metadata": {},
   "outputs": [],
   "source": [
    "M = Matrix{Float64}[rand(1000,1000) for i = 1:10]; #10 big matrix"
   ]
  },
  {
   "cell_type": "code",
   "execution_count": 18,
   "metadata": {},
   "outputs": [
    {
     "data": {
      "text/plain": [
       "4.073649893"
      ]
     },
     "execution_count": 18,
     "metadata": {},
     "output_type": "execute_result"
    }
   ],
   "source": [
    "@elapsed res=pmap(svdvals, M)"
   ]
  },
  {
   "cell_type": "markdown",
   "metadata": {},
   "source": [
    "### comparison\n",
    "* reduction\n",
    "* use `pmap` : each function call does a large amount of work.(eg. svd())\n",
    "* use `@distributed for`: each iteration is tiny."
   ]
  },
  {
   "cell_type": "markdown",
   "metadata": {},
   "source": [
    "Both `pmap` and `@distributed for`: only use worker processes."
   ]
  },
  {
   "cell_type": "code",
   "execution_count": null,
   "metadata": {},
   "outputs": [],
   "source": [
    "###############################"
   ]
  },
  {
   "cell_type": "code",
   "execution_count": 63,
   "metadata": {},
   "outputs": [],
   "source": [
    "#test below"
   ]
  },
  {
   "cell_type": "code",
   "execution_count": 19,
   "metadata": {},
   "outputs": [
    {
     "data": {
      "text/plain": [
       "10-element Array{Int64,1}:\n",
       " 12\n",
       " 13\n",
       " 14\n",
       " 15\n",
       " 16\n",
       " 17\n",
       " 18\n",
       " 19\n",
       " 20\n",
       " 21"
      ]
     },
     "execution_count": 19,
     "metadata": {},
     "output_type": "execute_result"
    }
   ],
   "source": [
    "addprocs(10)"
   ]
  },
  {
   "cell_type": "code",
   "execution_count": 20,
   "metadata": {},
   "outputs": [
    {
     "data": {
      "text/plain": [
       "21"
      ]
     },
     "execution_count": 20,
     "metadata": {},
     "output_type": "execute_result"
    }
   ],
   "source": [
    "nprocs()"
   ]
  },
  {
   "cell_type": "code",
   "execution_count": 21,
   "metadata": {},
   "outputs": [],
   "source": [
    "M = Matrix{Float64}[rand(1000,1000) for i = 1:10]; #10 big matrix"
   ]
  },
  {
   "cell_type": "code",
   "execution_count": 22,
   "metadata": {},
   "outputs": [],
   "source": [
    "@everywhere using LinearAlgebra"
   ]
  },
  {
   "cell_type": "code",
   "execution_count": 23,
   "metadata": {},
   "outputs": [],
   "source": [
    "using Distributed"
   ]
  },
  {
   "cell_type": "markdown",
   "metadata": {},
   "source": [
    "Time for pmap:    2.596805109, 2.567780132, 2.640953034\n",
    "\n",
    "Time for forloop: 4.264198688, 4.091798161, 4.112079761"
   ]
  },
  {
   "cell_type": "code",
   "execution_count": 24,
   "metadata": {},
   "outputs": [
    {
     "data": {
      "text/plain": [
       "0.011179386"
      ]
     },
     "execution_count": 24,
     "metadata": {},
     "output_type": "execute_result"
    }
   ],
   "source": [
    "# MAKE IT SAME TO PMAP\n",
    "#### distributed for loop\n",
    "@elapsed @distributed for i = 1:length(M)\n",
    "    svdvals(M[i])\n",
    "    println(nprocs())\n",
    "    \n",
    "end"
   ]
  },
  {
   "cell_type": "code",
   "execution_count": 25,
   "metadata": {},
   "outputs": [
    {
     "name": "stdout",
     "output_type": "stream",
     "text": [
      "      From worker 12:\t21\n",
      "      From worker 13:\t21\n",
      "      From worker 14:\t21\n",
      "      From worker 15:\t21\n",
      "      From worker 16:\t21\n",
      "      From worker 17:\t21\n",
      "      From worker 18:\t21\n",
      "      From worker 19:\t21\n",
      "      From worker 20:\t21\n",
      "      From worker 21:\t21\n"
     ]
    }
   ],
   "source": [
    "using SharedArrays\n",
    "res = SharedArray{Float64,3}(1000,1,10);"
   ]
  },
  {
   "cell_type": "code",
   "execution_count": 26,
   "metadata": {},
   "outputs": [
    {
     "name": "stdout",
     "output_type": "stream",
     "text": [
      "      From worker 7:\t21\n",
      "      From worker 2:\t21\n",
      "      From worker 11:\t21\n",
      "      From worker 8:\t21\n",
      "      From worker 9:\t21\n",
      "      From worker 10:\t21\n",
      "      From worker 4:\t21\n",
      "      From worker 5:\t21\n",
      "      From worker 3:\t21\n",
      "      From worker 6:\t21\n"
     ]
    },
    {
     "data": {
      "text/plain": [
       "5.269636677"
      ]
     },
     "execution_count": 26,
     "metadata": {},
     "output_type": "execute_result"
    }
   ],
   "source": [
    "# MAKE IT SAME TO PMAP\n",
    "#### distributed for loop\n",
    "@elapsed @distributed (+) for i = 1:length(M)\n",
    "    println(nprocs())\n",
    "    res[:,:,i] = svdvals(M[i]);\n",
    "end"
   ]
  },
  {
   "cell_type": "code",
   "execution_count": 27,
   "metadata": {},
   "outputs": [
    {
     "data": {
      "text/plain": [
       "1000×1×10 SharedArray{Float64,3}:\n",
       "[:, :, 1] =\n",
       " 499.9966446561154     \n",
       "  18.14744934860105    \n",
       "  17.999192544153328   \n",
       "  17.94711051155583    \n",
       "  17.81996302328169    \n",
       "  17.79433182149896    \n",
       "  17.733745093404664   \n",
       "  17.724415935905427   \n",
       "  17.675067603744985   \n",
       "  17.617520414536234   \n",
       "  17.50299516376098    \n",
       "  17.473893162760792   \n",
       "  17.42104677970939    \n",
       "   ⋮                   \n",
       "   0.15898633754650254 \n",
       "   0.15250690185569232 \n",
       "   0.12126857401034243 \n",
       "   0.11730649317743988 \n",
       "   0.10273861584037713 \n",
       "   0.09614711599875211 \n",
       "   0.07527041467919135 \n",
       "   0.06257702914386455 \n",
       "   0.04995372080769225 \n",
       "   0.04477314472394897 \n",
       "   0.03071901457165942 \n",
       "   0.006593787433589939\n",
       "\n",
       "[:, :, 2] =\n",
       " 499.9765180739922     \n",
       "  18.188199787701986   \n",
       "  17.999552061529908   \n",
       "  17.988348051709753   \n",
       "  17.93634985210346    \n",
       "  17.836709272712174   \n",
       "  17.806652797250713   \n",
       "  17.724303280857217   \n",
       "  17.705112316335157   \n",
       "  17.6168652869468     \n",
       "  17.55748291424697    \n",
       "  17.51481060749364    \n",
       "  17.50503502545473    \n",
       "   ⋮                   \n",
       "   0.16167166955595444 \n",
       "   0.14171148531043123 \n",
       "   0.1202211990533855  \n",
       "   0.11661562987431018 \n",
       "   0.10563696249523874 \n",
       "   0.09606190648993986 \n",
       "   0.0817744005852688  \n",
       "   0.07079538008395872 \n",
       "   0.05020470047068927 \n",
       "   0.022892764272003426\n",
       "   0.014117918834989382\n",
       "   0.008779689026692813\n",
       "\n",
       "[:, :, 3] =\n",
       " 500.4195068190436     \n",
       "  18.21429948463582    \n",
       "  18.125670530684737   \n",
       "  17.980111232114123   \n",
       "  17.930170126870536   \n",
       "  17.863534425540376   \n",
       "  17.787757398279233   \n",
       "  17.73498136241367    \n",
       "  17.66106556160705    \n",
       "  17.58055994992833    \n",
       "  17.538177199357946   \n",
       "  17.494744077929944   \n",
       "  17.396676934366454   \n",
       "   ⋮                   \n",
       "   0.16044702573760258 \n",
       "   0.15726530085847218 \n",
       "   0.13265788083163527 \n",
       "   0.12332596719010401 \n",
       "   0.09499486889864948 \n",
       "   0.08914554531915474 \n",
       "   0.07691066564660955 \n",
       "   0.06509666062986776 \n",
       "   0.056602031113534054\n",
       "   0.03408776535955903 \n",
       "   0.015807666742403463\n",
       "   0.004484149656032883\n",
       "\n",
       "[:, :, 4] =\n",
       " 500.52433204355594    \n",
       "  18.136641949657275   \n",
       "  18.048082328726842   \n",
       "  17.887380243874922   \n",
       "  17.829476005767      \n",
       "  17.806846401544746   \n",
       "  17.69499264492682    \n",
       "  17.628391813088164   \n",
       "  17.603713963870227   \n",
       "  17.577277929583026   \n",
       "  17.486386604092246   \n",
       "  17.45964607079773    \n",
       "  17.380275521574408   \n",
       "   ⋮                   \n",
       "   0.14290572347051161 \n",
       "   0.14127739685303373 \n",
       "   0.13154373167278166 \n",
       "   0.10957210554396807 \n",
       "   0.09705581892913365 \n",
       "   0.08605819464709316 \n",
       "   0.0786008456143281  \n",
       "   0.05697413302758523 \n",
       "   0.04729222388057536 \n",
       "   0.03245285103614386 \n",
       "   0.022230084998358934\n",
       "   0.004460532279417434\n",
       "\n",
       "[:, :, 5] =\n",
       " 499.8817756320001      \n",
       "  18.26348159064782     \n",
       "  18.070408868630782    \n",
       "  18.01720809549981     \n",
       "  17.90909791700423     \n",
       "  17.824447815053656    \n",
       "  17.80159377337719     \n",
       "  17.669128301969042    \n",
       "  17.595515215766564    \n",
       "  17.558150830485175    \n",
       "  17.49265775443726     \n",
       "  17.473139855334164    \n",
       "  17.43702228178978     \n",
       "   ⋮                    \n",
       "   0.15211752011515686  \n",
       "   0.14398382120509498  \n",
       "   0.1291919096070934   \n",
       "   0.12498028393774634  \n",
       "   0.10907925678654538  \n",
       "   0.09676467085726242  \n",
       "   0.06741395047532024  \n",
       "   0.05769976217388459  \n",
       "   0.04628456334379194  \n",
       "   0.03253216485916295  \n",
       "   0.02620175276443724  \n",
       "   0.0042964817963765355\n",
       "\n",
       "[:, :, 6] =\n",
       " 499.6789176106864     \n",
       "  18.206806256940858   \n",
       "  18.114045722422986   \n",
       "  18.038405381960175   \n",
       "  17.898132168001275   \n",
       "  17.76369074839222    \n",
       "  17.75326543824037    \n",
       "  17.655570811046513   \n",
       "  17.639708247219865   \n",
       "  17.593145201109472   \n",
       "  17.528420478588604   \n",
       "  17.499279486850682   \n",
       "  17.432847906255905   \n",
       "   ⋮                   \n",
       "   0.15371971515084332 \n",
       "   0.14236292326910693 \n",
       "   0.1162550490895373  \n",
       "   0.10986370397600466 \n",
       "   0.09529486903969418 \n",
       "   0.0856724227605608  \n",
       "   0.0804491569741215  \n",
       "   0.05664907692523459 \n",
       "   0.037997857326540506\n",
       "   0.022870710292162453\n",
       "   0.008633227711449198\n",
       "   0.006730346025082107\n",
       "\n",
       "[:, :, 7] =\n",
       " 500.15160353491       \n",
       "  18.070388822274936   \n",
       "  18.00961166219602    \n",
       "  17.932870687597656   \n",
       "  17.90552056830436    \n",
       "  17.79267387245329    \n",
       "  17.683777017564864   \n",
       "  17.627046620502256   \n",
       "  17.605865497546723   \n",
       "  17.577099200987913   \n",
       "  17.512675786001168   \n",
       "  17.42453949388558    \n",
       "  17.365922059358876   \n",
       "   ⋮                   \n",
       "   0.1559764629913416  \n",
       "   0.12971456957369773 \n",
       "   0.12068038979964794 \n",
       "   0.11043844262399702 \n",
       "   0.09829688953441597 \n",
       "   0.08328759071270166 \n",
       "   0.06341880321412673 \n",
       "   0.06112692705448479 \n",
       "   0.05150054135165624 \n",
       "   0.018156896993201874\n",
       "   0.010009429644271626\n",
       "   0.006033095739110169\n",
       "\n",
       "[:, :, 8] =\n",
       " 500.90941842938327    \n",
       "  18.30518507369675    \n",
       "  18.0679574336204     \n",
       "  17.994651181788733   \n",
       "  17.893095434444696   \n",
       "  17.837306967791047   \n",
       "  17.8036778586438     \n",
       "  17.707680286864104   \n",
       "  17.63909661257254    \n",
       "  17.592568376601484   \n",
       "  17.545638750237995   \n",
       "  17.49745908403844    \n",
       "  17.49614641620338    \n",
       "   ⋮                   \n",
       "   0.16353065730856967 \n",
       "   0.1472139933352552  \n",
       "   0.13873241504293288 \n",
       "   0.1236906643444357  \n",
       "   0.11259017947419614 \n",
       "   0.09738624196294914 \n",
       "   0.07774070846230054 \n",
       "   0.07613566760022634 \n",
       "   0.04769122111509642 \n",
       "   0.027712099034775457\n",
       "   0.01420117968097274 \n",
       "   0.004374265420779534\n",
       "\n",
       "[:, :, 9] =\n",
       " 499.68277309353846    \n",
       "  18.146502048485207   \n",
       "  18.0964438991247     \n",
       "  18.00569757922711    \n",
       "  17.972798650006233   \n",
       "  17.92061698613276    \n",
       "  17.79387031963586    \n",
       "  17.72057286520855    \n",
       "  17.659652743720674   \n",
       "  17.57208292943288    \n",
       "  17.524663784269915   \n",
       "  17.513963790419343   \n",
       "  17.390297559094808   \n",
       "   ⋮                   \n",
       "   0.16027800744225998 \n",
       "   0.14053720933350253 \n",
       "   0.12177355413664519 \n",
       "   0.10617208010725575 \n",
       "   0.09142051397285239 \n",
       "   0.08896388310150138 \n",
       "   0.06839447403051938 \n",
       "   0.05847287296699668 \n",
       "   0.052790820151898704\n",
       "   0.0459311679850877  \n",
       "   0.025194990947983636\n",
       "   0.023357798005521745\n",
       "\n",
       "[:, :, 10] =\n",
       " 500.43935735754485     \n",
       "  18.190773613575434    \n",
       "  17.952166239613142    \n",
       "  17.919857092525504    \n",
       "  17.828544368116518    \n",
       "  17.812910653714077    \n",
       "  17.74670318847388     \n",
       "  17.67870603341425     \n",
       "  17.613676332065015    \n",
       "  17.570571253082523    \n",
       "  17.539991811911747    \n",
       "  17.475831997997453    \n",
       "  17.464816639790232    \n",
       "   ⋮                    \n",
       "   0.1357444217015402   \n",
       "   0.1325033171393915   \n",
       "   0.12368803598648705  \n",
       "   0.1106867129989198   \n",
       "   0.10465975737069062  \n",
       "   0.10360164763208023  \n",
       "   0.08925022890038103  \n",
       "   0.07009842683504577  \n",
       "   0.058607389433259965 \n",
       "   0.03825685385335248  \n",
       "   0.017806243143079777 \n",
       "   0.0009989810166048674"
      ]
     },
     "execution_count": 27,
     "metadata": {},
     "output_type": "execute_result"
    }
   ],
   "source": [
    "res"
   ]
  },
  {
   "cell_type": "code",
   "execution_count": 28,
   "metadata": {},
   "outputs": [
    {
     "name": "stdout",
     "output_type": "stream",
     "text": [
      "      From worker 2:\t21\n",
      "      From worker 3:\t21\n",
      "      From worker 4:\t21\n",
      "      From worker 5:\t21\n",
      "      From worker 6:\t21\n",
      "      From worker 7:\t21\n",
      "      From worker 8:\t21\n",
      "      From worker 9:\t21\n",
      "      From worker 10:\t21\n",
      "      From worker 11:\t21\n"
     ]
    },
    {
     "data": {
      "text/plain": [
       "2.493232416"
      ]
     },
     "execution_count": 28,
     "metadata": {},
     "output_type": "execute_result"
    }
   ],
   "source": [
    "@elapsed @distributed (+) for i = 1:length(M)\n",
    "    println(nprocs())\n",
    "    svdvals(M[i]);\n",
    "end"
   ]
  },
  {
   "cell_type": "markdown",
   "metadata": {},
   "source": [
    "### Remote Channel\n",
    "Call object from other process.\n",
    "\n",
    " `RemoteChannel(()->Channel{Int}(10), pid)`, will return a reference to a channel of type Int and size 10. The channel exists on worker pid.\n",
    " \n",
    " * A Channel is local to a process. Worker 2 cannot directly refer to a Channel on worker 3 and vice-versa. A RemoteChannel, however, can put and take values across workers.\n",
    "\n",
    " * A RemoteChannel can be thought of as a handle to a Channel."
   ]
  },
  {
   "cell_type": "markdown",
   "metadata": {},
   "source": [
    "#### Example\n",
    "We start 4 workers to process a single jobs remote channel. Jobs, identified by an id (job_id), are written to the channel. Each remotely executing task in this simulation reads a job_id, waits for a random amount of time and writes back a tuple of job_id, time taken and its own pid to the results channel. Finally all the results are printed out on the master process."
   ]
  },
  {
   "cell_type": "code",
   "execution_count": 1,
   "metadata": {},
   "outputs": [
    {
     "data": {
      "text/plain": [
       "4-element Array{Int64,1}:\n",
       " 2\n",
       " 3\n",
       " 4\n",
       " 5"
      ]
     },
     "execution_count": 1,
     "metadata": {},
     "output_type": "execute_result"
    }
   ],
   "source": [
    "using Distributed\n",
    "addprocs(4)"
   ]
  },
  {
   "cell_type": "code",
   "execution_count": 2,
   "metadata": {},
   "outputs": [
    {
     "data": {
      "text/plain": [
       "RemoteChannel{Channel{Int64}}(1, 1, 6)"
      ]
     },
     "execution_count": 2,
     "metadata": {},
     "output_type": "execute_result"
    }
   ],
   "source": [
    "const jobs = RemoteChannel(()->Channel{Int}(32))"
   ]
  },
  {
   "cell_type": "code",
   "execution_count": 3,
   "metadata": {},
   "outputs": [
    {
     "data": {
      "text/plain": [
       "RemoteChannel{Channel{Tuple}}(1, 1, 7)"
      ]
     },
     "execution_count": 3,
     "metadata": {},
     "output_type": "execute_result"
    }
   ],
   "source": [
    "const results = RemoteChannel(()->Channel{Tuple}(32))"
   ]
  },
  {
   "cell_type": "code",
   "execution_count": 4,
   "metadata": {},
   "outputs": [],
   "source": [
    "@everywhere function do_work(jobs, results) # define work function everywhere\n",
    "           while true\n",
    "               job_id = take!(jobs)\n",
    "               exec_time = rand()\n",
    "               sleep(exec_time) # simulates elapsed time doing actual work\n",
    "               put!(results, (job_id, exec_time, myid()))  # feed the result channel\n",
    "           end\n",
    "       end"
   ]
  },
  {
   "cell_type": "code",
   "execution_count": 5,
   "metadata": {},
   "outputs": [],
   "source": [
    "function make_jobs(n)\n",
    "           for i in 1:n\n",
    "               put!(jobs, i) # feed the jobs channel with \"n\" jobs\n",
    "           end\n",
    "       end;"
   ]
  },
  {
   "cell_type": "code",
   "execution_count": 6,
   "metadata": {},
   "outputs": [],
   "source": [
    "n = 12;"
   ]
  },
  {
   "cell_type": "code",
   "execution_count": 7,
   "metadata": {},
   "outputs": [
    {
     "data": {
      "text/plain": [
       "Task (done) @0x000000000774f3d0"
      ]
     },
     "execution_count": 7,
     "metadata": {},
     "output_type": "execute_result"
    }
   ],
   "source": [
    "# @async--Wrap an expression in a Task\n",
    "@async make_jobs(n) # use 4 workers to process\n",
    "#job channel: 1,2,3,4,.....,11,12"
   ]
  },
  {
   "cell_type": "code",
   "execution_count": 8,
   "metadata": {},
   "outputs": [
    {
     "data": {
      "text/plain": [
       "4-element Array{Int64,1}:\n",
       " 2\n",
       " 3\n",
       " 4\n",
       " 5"
      ]
     },
     "execution_count": 8,
     "metadata": {},
     "output_type": "execute_result"
    }
   ],
   "source": [
    "workers()"
   ]
  },
  {
   "cell_type": "code",
   "execution_count": 9,
   "metadata": {},
   "outputs": [],
   "source": [
    "for p in workers() # start tasks on the workers to process requests in parallel\n",
    "           remote_do(do_work, p, jobs, results)  # remote_do(fcn,pro_id,para for fcn)\n",
    "       end"
   ]
  },
  {
   "cell_type": "code",
   "execution_count": 10,
   "metadata": {},
   "outputs": [
    {
     "name": "stdout",
     "output_type": "stream",
     "text": [
      "2 finished in 0.0 seconds on worker 3\n",
      "1 finished in 0.06 seconds on worker 5\n",
      "4 finished in 0.09 seconds on worker 2\n",
      "6 finished in 0.02 seconds on worker 5\n",
      "5 finished in 0.22 seconds on worker 3\n",
      "7 finished in 0.23 seconds on worker 2\n",
      "9 finished in 0.19 seconds on worker 3\n",
      "8 finished in 0.59 seconds on worker 5\n",
      "12 finished in 0.02 seconds on worker 5\n",
      "3 finished in 0.79 seconds on worker 4\n",
      "10 finished in 0.82 seconds on worker 2\n",
      "11 finished in 0.66 seconds on worker 3\n"
     ]
    },
    {
     "data": {
      "text/plain": [
       "0.159630441"
      ]
     },
     "execution_count": 10,
     "metadata": {},
     "output_type": "execute_result"
    }
   ],
   "source": [
    "@elapsed while n > 0 # print out results\n",
    "           job_id, exec_time, where = take!(results)\n",
    "           println(\"$job_id finished in $(round(exec_time; digits=2)) seconds on worker $where\")\n",
    "           global n = n - 1\n",
    "       end"
   ]
  },
  {
   "cell_type": "markdown",
   "metadata": {},
   "source": [
    "### Shared Arrays\n",
    "\n",
    "SharedArray{T,N}(dims::NTuple; init=false, pids=Int[])\n",
    "\n",
    "which creates an `N`-dimensional shared array of a bits type `T` and size `dims` across the processes specified by `pids`. "
   ]
  },
  {
   "cell_type": "markdown",
   "metadata": {},
   "source": [
    "#### Compare\n",
    " \n",
    " In a `DArray`, each process can **read** and **write** to the part of the array it owns and has **read-only** access to the parts it doesn't own.\n",
    " \n",
    " `Shared Arrays` use system shared memory to map the same array across many processes. While there are some similarities to a `DArray`, the behavior of a SharedArray is quite different. In a DArray, each process has local access to just a chunk of the data, and no two processes share the same chunk; in contrast, in a SharedArray each \"participating\" process has access to the entire array.**A SharedArray is a good choice when you want to have a large amount of data jointly accessible to two or more processes on the same machine**."
   ]
  },
  {
   "cell_type": "code",
   "execution_count": 38,
   "metadata": {},
   "outputs": [
    {
     "data": {
      "text/plain": [
       "3-element Array{Int64,1}:\n",
       " 26\n",
       " 27\n",
       " 28"
      ]
     },
     "execution_count": 38,
     "metadata": {},
     "output_type": "execute_result"
    }
   ],
   "source": [
    "using Distributed\n",
    "addprocs(3)"
   ]
  },
  {
   "cell_type": "code",
   "execution_count": 39,
   "metadata": {},
   "outputs": [],
   "source": [
    "@everywhere using SharedArrays"
   ]
  },
  {
   "cell_type": "code",
   "execution_count": 40,
   "metadata": {
    "scrolled": true
   },
   "outputs": [
    {
     "data": {
      "text/plain": [
       "3×4 SharedArray{Int64,2}:\n",
       " 0  0  0  0\n",
       " 0  0  0  0\n",
       " 0  0  0  0"
      ]
     },
     "execution_count": 40,
     "metadata": {},
     "output_type": "execute_result"
    }
   ],
   "source": [
    "S = SharedArray{Int,2}(3,4) "
   ]
  },
  {
   "cell_type": "code",
   "execution_count": 42,
   "metadata": {},
   "outputs": [
    {
     "data": {
      "text/plain": [
       "5×5×2 SharedArray{Float64,3}:\n",
       "[:, :, 1] =\n",
       " 0.0  0.0  0.0  0.0  0.0\n",
       " 0.0  0.0  0.0  0.0  0.0\n",
       " 0.0  0.0  0.0  0.0  0.0\n",
       " 0.0  0.0  0.0  0.0  0.0\n",
       " 0.0  0.0  0.0  0.0  0.0\n",
       "\n",
       "[:, :, 2] =\n",
       " 0.0  0.0  0.0  0.0  0.0\n",
       " 0.0  0.0  0.0  0.0  0.0\n",
       " 0.0  0.0  0.0  0.0  0.0\n",
       " 0.0  0.0  0.0  0.0  0.0\n",
       " 0.0  0.0  0.0  0.0  0.0"
      ]
     },
     "execution_count": 42,
     "metadata": {},
     "output_type": "execute_result"
    }
   ],
   "source": [
    "q = SharedArray{Float64,3}((5,5,2))"
   ]
  }
 ],
 "metadata": {
  "kernelspec": {
   "display_name": "Julia 1.0.1",
   "language": "julia",
   "name": "julia-1.0"
  },
  "language_info": {
   "file_extension": ".jl",
   "mimetype": "application/julia",
   "name": "julia",
   "version": "1.0.1"
  }
 },
 "nbformat": 4,
 "nbformat_minor": 2
}
